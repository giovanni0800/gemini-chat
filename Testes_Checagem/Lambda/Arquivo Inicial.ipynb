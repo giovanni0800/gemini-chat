{
 "cells": [
  {
   "cell_type": "markdown",
   "metadata": {},
   "source": [
    "# Expressões Lambda - Simplificado\n",
    "\n",
    "- Funções \"Anônimas\" -> nome ruim pra uma função que você não precisa definir e depois usar, você define já usando direto.\n",
    "\n",
    "Ex:\n",
    "\n",
    "Digamos que você está avaliando o preço de um serviço e quer saber quanto de imposto será cobrado sobre o serviço.\n",
    "O imposto é correspondente a 30% do valor do produto"
   ]
  },
  {
   "cell_type": "code",
   "execution_count": 6,
   "metadata": {},
   "outputs": [
    {
     "name": "stdout",
     "output_type": "stream",
     "text": [
      "300.0\n"
     ]
    }
   ],
   "source": [
    "preco = 1000\n",
    "\n",
    "def calcular_imposto(preco):\n",
    "    return preco * 0.3\n",
    "\n",
    "print( calcular_imposto(preco) )"
   ]
  },
  {
   "cell_type": "code",
   "execution_count": 7,
   "metadata": {},
   "outputs": [
    {
     "name": "stdout",
     "output_type": "stream",
     "text": [
      "300.0\n"
     ]
    }
   ],
   "source": [
    "                        # Recebe o parâmetro antes dos pontos, e depois dos pontos é o que ela vai retornar\n",
    "calcular_imposto_lambda = lambda x: x * 0.3\n",
    "\n",
    "print( calcular_imposto_lambda(preco) )"
   ]
  },
  {
   "cell_type": "markdown",
   "metadata": {},
   "source": [
    "### Tá, mas qual a diferença?\n",
    "\n",
    "Quando você aplica essa função dentro de outros métodos do Python. Aí sim existe vantagem.\n",
    "\n",
    "Ex: temos agora uma lista de preços."
   ]
  },
  {
   "cell_type": "code",
   "execution_count": 11,
   "metadata": {},
   "outputs": [
    {
     "name": "stdout",
     "output_type": "stream",
     "text": [
      "[150.5, 300.5, 450.5, 600.5, 750.5, 900.5, 1050.5, 1200.5, 1350.5, 1500.5, 1650.5, 1800.5, 1950.5, 2100.5]\n"
     ]
    }
   ],
   "source": [
    "precos = [500, 1000, 1500, 2000, 2500, 3000, 3500, 4000, 4500, 5000, 5500, 6000, 6500, 7000]\n",
    "item = 0.5\n",
    "\n",
    "# A função map vai percorrer uma lista e jogar cada um dos itens da lista dentro de uma função, para executar várias vezes\n",
    "# Mas nesse caso, cada um dos valores que são retornados pela função, são adicionados em uma nova lista e depois passados para\n",
    "# impostos\n",
    "impostos = list( map( lambda x: (x * 0.3) + item, precos ) )\n",
    "\n",
    "print(impostos)"
   ]
  }
 ],
 "metadata": {
  "kernelspec": {
   "display_name": "Python 3",
   "language": "python",
   "name": "python3"
  },
  "language_info": {
   "codemirror_mode": {
    "name": "ipython",
    "version": 3
   },
   "file_extension": ".py",
   "mimetype": "text/x-python",
   "name": "python",
   "nbconvert_exporter": "python",
   "pygments_lexer": "ipython3",
   "version": "3.12.3"
  }
 },
 "nbformat": 4,
 "nbformat_minor": 4
}
